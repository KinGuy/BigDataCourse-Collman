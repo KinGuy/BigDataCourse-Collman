{
 "cells": [
  {
   "cell_type": "markdown",
   "metadata": {},
   "source": [
    "<br>\n",
    "<font size=\"10\">-+= Final Excersise =+-</font>"
   ]
  },
  {
   "cell_type": "markdown",
   "metadata": {},
   "source": [
    "__מגישים:__ <br> \n",
    "גיא כנרתי 038754842 <br>\n",
    "ניב ניסים 032327330 <br>"
   ]
  },
  {
   "cell_type": "markdown",
   "metadata": {
    "toc": true
   },
   "source": [
    "<h1>Table of Contents<span class=\"tocSkip\"></span></h1>\n",
    "<div class=\"toc\"><ul class=\"toc-item\"><li><span><a href=\"#===-Import-===\" data-toc-modified-id=\"===-Import-===-1\"><span class=\"toc-item-num\">1&nbsp;&nbsp;</span>=== Import ===</a></span><ul class=\"toc-item\"><li><span><a href=\"#Import-functions-and-libraries\" data-toc-modified-id=\"Import-functions-and-libraries-1.1\"><span class=\"toc-item-num\">1.1&nbsp;&nbsp;</span>Import functions and libraries</a></span></li><li><span><a href=\"#Import-data-from-csv\" data-toc-modified-id=\"Import-data-from-csv-1.2\"><span class=\"toc-item-num\">1.2&nbsp;&nbsp;</span>Import data from csv</a></span></li></ul></li><li><span><a href=\"#===-Explore-===\" data-toc-modified-id=\"===-Explore-===-2\"><span class=\"toc-item-num\">2&nbsp;&nbsp;</span>=== Explore ===</a></span><ul class=\"toc-item\"><li><span><a href=\"#First-rows\" data-toc-modified-id=\"First-rows-2.1\"><span class=\"toc-item-num\">2.1&nbsp;&nbsp;</span>First rows</a></span></li><li><span><a href=\"#Original-data-documentation\" data-toc-modified-id=\"Original-data-documentation-2.2\"><span class=\"toc-item-num\">2.2&nbsp;&nbsp;</span>Original data documentation</a></span></li><li><span><a href=\"#Datafield-Explanetion-(heb)\" data-toc-modified-id=\"Datafield-Explanetion-(heb)-2.3\"><span class=\"toc-item-num\">2.3&nbsp;&nbsp;</span>Datafield Explanetion (heb)</a></span></li><li><span><a href=\"#Get-matrics-for-the-data-and-calculate-num-of-rows\" data-toc-modified-id=\"Get-matrics-for-the-data-and-calculate-num-of-rows-2.4\"><span class=\"toc-item-num\">2.4&nbsp;&nbsp;</span>Get matrics for the data and calculate num of rows</a></span></li><li><span><a href=\"#Statistical-Summary:\" data-toc-modified-id=\"Statistical-Summary:-2.5\"><span class=\"toc-item-num\">2.5&nbsp;&nbsp;</span>Statistical Summary:</a></span></li><li><span><a href=\"#Age-histogram\" data-toc-modified-id=\"Age-histogram-2.6\"><span class=\"toc-item-num\">2.6&nbsp;&nbsp;</span>Age histogram</a></span></li><li><span><a href=\"#Percent-of-people-with-income-of-50K+\" data-toc-modified-id=\"Percent-of-people-with-income-of-50K+-2.7\"><span class=\"toc-item-num\">2.7&nbsp;&nbsp;</span>Percent of people with income of 50K+</a></span></li><li><span><a href=\"#Num-of-divorced\" data-toc-modified-id=\"Num-of-divorced-2.8\"><span class=\"toc-item-num\">2.8&nbsp;&nbsp;</span>Num of divorced</a></span></li><li><span><a href=\"#Sample-Percentile-Heatmap\" data-toc-modified-id=\"Sample-Percentile-Heatmap-2.9\"><span class=\"toc-item-num\">2.9&nbsp;&nbsp;</span>Sample Percentile Heatmap</a></span><ul class=\"toc-item\"><li><span><a href=\"#Choose-samples\" data-toc-modified-id=\"Choose-samples-2.9.1\"><span class=\"toc-item-num\">2.9.1&nbsp;&nbsp;</span>Choose samples</a></span></li><li><span><a href=\"#Generate-heatmap\" data-toc-modified-id=\"Generate-heatmap-2.9.2\"><span class=\"toc-item-num\">2.9.2&nbsp;&nbsp;</span>Generate heatmap</a></span></li><li><span><a href=\"#Indeces-insights:\" data-toc-modified-id=\"Indeces-insights:-2.9.3\"><span class=\"toc-item-num\">2.9.3&nbsp;&nbsp;</span>Indeces insights:</a></span></li></ul></li><li><span><a href=\"#Capital-gain-and-loss\" data-toc-modified-id=\"Capital-gain-and-loss-2.10\"><span class=\"toc-item-num\">2.10&nbsp;&nbsp;</span>Capital gain and loss</a></span></li></ul></li><li><span><a href=\"#===-Manipulate-===\" data-toc-modified-id=\"===-Manipulate-===-3\"><span class=\"toc-item-num\">3&nbsp;&nbsp;</span>=== Manipulate ===</a></span><ul class=\"toc-item\"><li><span><a href=\"#split-income-from-features\" data-toc-modified-id=\"split-income-from-features-3.1\"><span class=\"toc-item-num\">3.1&nbsp;&nbsp;</span>split income from features</a></span></li><li><span><a href=\"#Skew-fix\" data-toc-modified-id=\"Skew-fix-3.2\"><span class=\"toc-item-num\">3.2&nbsp;&nbsp;</span>Skew fix</a></span></li><li><span><a href=\"#Scaling\" data-toc-modified-id=\"Scaling-3.3\"><span class=\"toc-item-num\">3.3&nbsp;&nbsp;</span>Scaling</a></span></li><li><span><a href=\"#Create-One-Hot-Encoding\" data-toc-modified-id=\"Create-One-Hot-Encoding-3.4\"><span class=\"toc-item-num\">3.4&nbsp;&nbsp;</span>Create One-Hot-Encoding</a></span></li><li><span><a href=\"#Encode-Income\" data-toc-modified-id=\"Encode-Income-3.5\"><span class=\"toc-item-num\">3.5&nbsp;&nbsp;</span>Encode Income</a></span></li></ul></li><li><span><a href=\"#===-Modeling-===\" data-toc-modified-id=\"===-Modeling-===-4\"><span class=\"toc-item-num\">4&nbsp;&nbsp;</span>=== Modeling ===</a></span><ul class=\"toc-item\"><li><span><a href=\"#Train-test-split\" data-toc-modified-id=\"Train-test-split-4.1\"><span class=\"toc-item-num\">4.1&nbsp;&nbsp;</span>Train-test split</a></span></li><li><span><a href=\"#Create-predictor-function\" data-toc-modified-id=\"Create-predictor-function-4.2\"><span class=\"toc-item-num\">4.2&nbsp;&nbsp;</span>Create predictor function</a></span></li><li><span><a href=\"#Set-classifiers-and-global-variables\" data-toc-modified-id=\"Set-classifiers-and-global-variables-4.3\"><span class=\"toc-item-num\">4.3&nbsp;&nbsp;</span>Set classifiers and global variables</a></span></li><li><span><a href=\"#Run-Algorithems\" data-toc-modified-id=\"Run-Algorithems-4.4\"><span class=\"toc-item-num\">4.4&nbsp;&nbsp;</span>Run Algorithems</a></span></li></ul></li><li><span><a href=\"#===-Validation-===\" data-toc-modified-id=\"===-Validation-===-5\"><span class=\"toc-item-num\">5&nbsp;&nbsp;</span>=== Validation ===</a></span><ul class=\"toc-item\"><li><span><a href=\"#Visual-graphs\" data-toc-modified-id=\"Visual-graphs-5.1\"><span class=\"toc-item-num\">5.1&nbsp;&nbsp;</span>Visual graphs</a></span></li><li><span><a href=\"#Test-for-different-clusters\" data-toc-modified-id=\"Test-for-different-clusters-5.2\"><span class=\"toc-item-num\">5.2&nbsp;&nbsp;</span>Test for different clusters</a></span><ul class=\"toc-item\"><li><span><a href=\"#Cluster-using-GMM\" data-toc-modified-id=\"Cluster-using-GMM-5.2.1\"><span class=\"toc-item-num\">5.2.1&nbsp;&nbsp;</span>Cluster using GMM</a></span></li><li><span><a href=\"#Cluster-using-KMeans\" data-toc-modified-id=\"Cluster-using-KMeans-5.2.2\"><span class=\"toc-item-num\">5.2.2&nbsp;&nbsp;</span>Cluster using KMeans</a></span></li></ul></li></ul></li><li><span><a href=\"#===-Conclusion-===\" data-toc-modified-id=\"===-Conclusion-===-6\"><span class=\"toc-item-num\">6&nbsp;&nbsp;</span>=== Conclusion ===</a></span><ul class=\"toc-item\"><li><span><a href=\"#Time-to-fit\" data-toc-modified-id=\"Time-to-fit-6.1\"><span class=\"toc-item-num\">6.1&nbsp;&nbsp;</span>Time to fit</a></span></li><li><span><a href=\"#Accuracy-and-model-comparison\" data-toc-modified-id=\"Accuracy-and-model-comparison-6.2\"><span class=\"toc-item-num\">6.2&nbsp;&nbsp;</span>Accuracy and model comparison</a></span></li><li><span><a href=\"#Clustering-variance\" data-toc-modified-id=\"Clustering-variance-6.3\"><span class=\"toc-item-num\">6.3&nbsp;&nbsp;</span>Clustering variance</a></span></li></ul></li></ul></div>"
   ]
  },
  {
   "cell_type": "markdown",
   "metadata": {},
   "source": [
    "# === Import ==="
   ]
  },
  {
   "cell_type": "markdown",
   "metadata": {},
   "source": [
    "## Import functions and libraries"
   ]
  },
  {
   "cell_type": "code",
   "execution_count": 1,
   "metadata": {},
   "outputs": [],
   "source": [
    "import numpy as np\n",
    "import pandas as pd\n",
    "from pandas import Series, DataFrame\n",
    "from time import time\n",
    "\n",
    "from sklearn.preprocessing import MinMaxScaler\n",
    "\n",
    "# import sklearn\n",
    "from sklearn.model_selection import train_test_split\n",
    "from sklearn.ensemble import AdaBoostClassifier, GradientBoostingClassifier\n",
    "from sklearn.linear_model import SGDClassifier\n",
    "from sklearn.mixture import GaussianMixture as GMM\n",
    "from sklearn.cluster import KMeans\n",
    "from sklearn.metrics import fbeta_score, accuracy_score, silhouette_score\n",
    "\n",
    "import visuals_1 as vs\n",
    "from IPython.display import display, clear_output, Image\n",
    "import matplotlib.pyplot as plt\n",
    "%matplotlib inline\n",
    "import seaborn as sns\n",
    "\n",
    "import warnings\n",
    "warnings.filterwarnings('ignore')"
   ]
  },
  {
   "cell_type": "markdown",
   "metadata": {},
   "source": [
    "## Import data from csv"
   ]
  },
  {
   "cell_type": "code",
   "execution_count": 2,
   "metadata": {},
   "outputs": [],
   "source": [
    "fname = 'datasal.csv'\n",
    "data = pd.read_csv(fname)"
   ]
  },
  {
   "cell_type": "markdown",
   "metadata": {},
   "source": [
    "# === Explore ==="
   ]
  },
  {
   "cell_type": "markdown",
   "metadata": {},
   "source": [
    "## First rows"
   ]
  },
  {
   "cell_type": "code",
   "execution_count": 3,
   "metadata": {},
   "outputs": [
    {
     "data": {
      "text/html": [
       "<div>\n",
       "<style scoped>\n",
       "    .dataframe tbody tr th:only-of-type {\n",
       "        vertical-align: middle;\n",
       "    }\n",
       "\n",
       "    .dataframe tbody tr th {\n",
       "        vertical-align: top;\n",
       "    }\n",
       "\n",
       "    .dataframe thead th {\n",
       "        text-align: right;\n",
       "    }\n",
       "</style>\n",
       "<table border=\"1\" class=\"dataframe\">\n",
       "  <thead>\n",
       "    <tr style=\"text-align: right;\">\n",
       "      <th></th>\n",
       "      <th>age</th>\n",
       "      <th>workclass</th>\n",
       "      <th>education_level</th>\n",
       "      <th>education-num</th>\n",
       "      <th>marital-status</th>\n",
       "      <th>occupation</th>\n",
       "      <th>relationship</th>\n",
       "      <th>race</th>\n",
       "      <th>sex</th>\n",
       "      <th>capital-gain</th>\n",
       "      <th>capital-loss</th>\n",
       "      <th>hours-per-week</th>\n",
       "      <th>native-country</th>\n",
       "      <th>income</th>\n",
       "    </tr>\n",
       "  </thead>\n",
       "  <tbody>\n",
       "    <tr>\n",
       "      <th>0</th>\n",
       "      <td>39</td>\n",
       "      <td>State-gov</td>\n",
       "      <td>Bachelors</td>\n",
       "      <td>13.0</td>\n",
       "      <td>Never-married</td>\n",
       "      <td>Adm-clerical</td>\n",
       "      <td>Not-in-family</td>\n",
       "      <td>White</td>\n",
       "      <td>Male</td>\n",
       "      <td>2174.0</td>\n",
       "      <td>0.0</td>\n",
       "      <td>40.0</td>\n",
       "      <td>United-States</td>\n",
       "      <td>&lt;=50K</td>\n",
       "    </tr>\n",
       "    <tr>\n",
       "      <th>1</th>\n",
       "      <td>50</td>\n",
       "      <td>Self-emp-not-inc</td>\n",
       "      <td>Bachelors</td>\n",
       "      <td>13.0</td>\n",
       "      <td>Married-civ-spouse</td>\n",
       "      <td>Exec-managerial</td>\n",
       "      <td>Husband</td>\n",
       "      <td>White</td>\n",
       "      <td>Male</td>\n",
       "      <td>0.0</td>\n",
       "      <td>0.0</td>\n",
       "      <td>13.0</td>\n",
       "      <td>United-States</td>\n",
       "      <td>&lt;=50K</td>\n",
       "    </tr>\n",
       "    <tr>\n",
       "      <th>2</th>\n",
       "      <td>38</td>\n",
       "      <td>Private</td>\n",
       "      <td>HS-grad</td>\n",
       "      <td>9.0</td>\n",
       "      <td>Divorced</td>\n",
       "      <td>Handlers-cleaners</td>\n",
       "      <td>Not-in-family</td>\n",
       "      <td>White</td>\n",
       "      <td>Male</td>\n",
       "      <td>0.0</td>\n",
       "      <td>0.0</td>\n",
       "      <td>40.0</td>\n",
       "      <td>United-States</td>\n",
       "      <td>&lt;=50K</td>\n",
       "    </tr>\n",
       "  </tbody>\n",
       "</table>\n",
       "</div>"
      ],
      "text/plain": [
       "   age          workclass education_level  education-num       marital-status  \\\n",
       "0   39          State-gov       Bachelors           13.0        Never-married   \n",
       "1   50   Self-emp-not-inc       Bachelors           13.0   Married-civ-spouse   \n",
       "2   38            Private         HS-grad            9.0             Divorced   \n",
       "\n",
       "           occupation    relationship    race    sex  capital-gain  \\\n",
       "0        Adm-clerical   Not-in-family   White   Male        2174.0   \n",
       "1     Exec-managerial         Husband   White   Male           0.0   \n",
       "2   Handlers-cleaners   Not-in-family   White   Male           0.0   \n",
       "\n",
       "   capital-loss  hours-per-week  native-country income  \n",
       "0           0.0            40.0   United-States  <=50K  \n",
       "1           0.0            13.0   United-States  <=50K  \n",
       "2           0.0            40.0   United-States  <=50K  "
      ]
     },
     "execution_count": 3,
     "metadata": {},
     "output_type": "execute_result"
    }
   ],
   "source": [
    "# Show the first 3 rows\n",
    "data.head(3)"
   ]
  },
  {
   "cell_type": "markdown",
   "metadata": {},
   "source": [
    "## Original data documentation"
   ]
  },
  {
   "cell_type": "markdown",
   "metadata": {},
   "source": [
    "%load adult.names\n",
    "| This data was extracted from the census bureau database found at\n",
    "| http://www.census.gov/ftp/pub/DES/www/welcome.html\n",
    "| Donor: Ronny Kohavi and Barry Becker,\n",
    "|        Data Mining and Visualization\n",
    "|        Silicon Graphics.\n",
    "|        e-mail: ronnyk@sgi.com for questions.\n",
    "| Split into train-test using MLC++ GenCVFiles (2/3, 1/3 random).\n",
    "| 48842 instances, mix of continuous and discrete    (train=32561, test=16281)\n",
    "| 45222 if instances with unknown values are removed (train=30162, test=15060)\n",
    "| Duplicate or conflicting instances : 6\n",
    "| Class probabilities for adult.all file\n",
    "| Probability for the label '>50K'  : 23.93% / 24.78% (without unknowns)\n",
    "| Probability for the label '<=50K' : 76.07% / 75.22% (without unknowns)\n",
    "|\n",
    "| Extraction was done by Barry Becker from the 1994 Census database.  A set of\n",
    "|   reasonably clean records was extracted using the following conditions:\n",
    "|   ((AAGE>16) && (AGI>100) && (AFNLWGT>1)&& (HRSWK>0))\n",
    "|\n",
    "| Prediction task is to determine whether a person makes over 50K\n",
    "| a year.\n",
    "|\n",
    "| First cited in:\n",
    "| @inproceedings{kohavi-nbtree,\n",
    "|    author={Ron Kohavi},\n",
    "|    title={Scaling Up the Accuracy of Naive-Bayes Classifiers: a\n",
    "|           Decision-Tree Hybrid},\n",
    "|    booktitle={Proceedings of the Second International Conference on\n",
    "|               Knowledge Discovery and Data Mining},\n",
    "|    year = 1996,\n",
    "|    pages={to appear}}\n",
    "|\n",
    "| Error Accuracy reported as follows, after removal of unknowns from\n",
    "|    train/test sets):\n",
    "|    C4.5       : 84.46+-0.30\n",
    "|    Naive-Bayes: 83.88+-0.30\n",
    "|    NBTree     : 85.90+-0.28\n",
    "|\n",
    "|\n",
    "| Following algorithms were later run with the following error rates,\n",
    "|    all after removal of unknowns and using the original train/test split.\n",
    "|    All these numbers are straight runs using MLC++ with default values.\n",
    "|\n",
    "|    Algorithm               Error\n",
    "| -- ----------------        -----\n",
    "| 1  C4.5                    15.54\n",
    "| 2  C4.5-auto               14.46\n",
    "| 3  C4.5 rules              14.94\n",
    "| 4  Voted ID3 (0.6)         15.64\n",
    "| 5  Voted ID3 (0.8)         16.47\n",
    "| 6  T2                      16.84\n",
    "| 7  1R                      19.54\n",
    "| 8  NBTree                  14.10\n",
    "| 9  CN2                     16.00\n",
    "| 10 HOODG                   14.82\n",
    "| 11 FSS Naive Bayes         14.05\n",
    "| 12 IDTM (Decision table)   14.46\n",
    "| 13 Naive-Bayes             16.12\n",
    "| 14 Nearest-neighbor (1)    21.42\n",
    "| 15 Nearest-neighbor (3)    20.35\n",
    "| 16 OC1                     15.04\n",
    "| 17 Pebls                   Crashed.  Unknown why (bounds WERE increased)\n",
    "|\n",
    "| Conversion of original data as follows:\n",
    "| 1. Discretized agrossincome into two ranges with threshold 50,000.\n",
    "| 2. Convert U.S. to US to avoid periods.\n",
    "| 3. Convert Unknown to \"?\"\n",
    "| 4. Run MLC++ GenCVFiles to generate data,test.\n",
    "|\n",
    "| Description of fnlwgt (final weight)\n",
    "|\n",
    "| The weights on the CPS files are controlled to independent estimates of the\n",
    "| civilian noninstitutional population of the US.  These are prepared monthly\n",
    "| for us by Population Division here at the Census Bureau.  We use 3 sets of\n",
    "| controls.\n",
    "|  These are:\n",
    "|          1.  A single cell estimate of the population 16+ for each state.\n",
    "|          2.  Controls for Hispanic Origin by age and sex.\n",
    "|          3.  Controls by Race, age and sex.\n",
    "|\n",
    "| We use all three sets of controls in our weighting program and \"rake\" through\n",
    "| them 6 times so that by the end we come back to all the controls we used.\n",
    "|\n",
    "| The term estimate refers to population totals derived from CPS by creating\n",
    "| \"weighted tallies\" of any specified socio-economic characteristics of the\n",
    "| population.\n",
    "|\n",
    "| People with similar demographic characteristics should have\n",
    "| similar weights.  There is one important caveat to remember\n",
    "| about this statement.  That is that since the CPS sample is\n",
    "| actually a collection of 51 state samples, each with its own\n",
    "| probability of selection, the statement only applies within\n",
    "| state.\n",
    "\n",
    "\n",
    ">50K, <=50K.\n",
    "\n",
    "age: continuous.\n",
    "workclass: Private, Self-emp-not-inc, Self-emp-inc, Federal-gov, Local-gov, State-gov, Without-pay, Never-worked.\n",
    "fnlwgt: continuous.\n",
    "education: Bachelors, Some-college, 11th, HS-grad, Prof-school, Assoc-acdm, Assoc-voc, 9th, 7th-8th, 12th, Masters, 1st-4th, 10th, Doctorate, 5th-6th, Preschool.\n",
    "education-num: continuous.\n",
    "marital-status: Married-civ-spouse, Divorced, Never-married, Separated, Widowed, Married-spouse-absent, Married-AF-spouse.\n",
    "occupation: Tech-support, Craft-repair, Other-service, Sales, Exec-managerial, Prof-specialty, Handlers-cleaners, Machine-op-inspct, Adm-clerical, Farming-fishing, Transport-moving, Priv-house-serv, Protective-serv, Armed-Forces.\n",
    "relationship: Wife, Own-child, Husband, Not-in-family, Other-relative, Unmarried.\n",
    "race: White, Asian-Pac-Islander, Amer-Indian-Eskimo, Other, Black.\n",
    "sex: Female, Male.\n",
    "capital-gain: continuous.\n",
    "capital-loss: continuous.\n",
    "hours-per-week: continuous.\n",
    "native-country: United-States, Cambodia, England, Puerto-Rico, Canada, Germany, Outlying-US(Guam-USVI-etc), India, Japan, Greece, South, China, Cuba, Iran, Honduras, Philippines, Italy, Poland, Jamaica, Vietnam, Mexico, Portugal, Ireland, France, Dominican-Republic, Laos, Ecuador, Taiwan, Haiti, Columbia, Hungary, Guatemala, Nicaragua, Scotland, Thailand, Yugoslavia, El-Salvador, Trinadad&Tobago, Peru, Hong, Holand-Netherlands.\n"
   ]
  },
  {
   "cell_type": "markdown",
   "metadata": {},
   "source": [
    "## Datafield Explanetion (heb)"
   ]
  },
  {
   "cell_type": "markdown",
   "metadata": {},
   "source": [
    "__משמעות השדות השונים בקובץ:__ <br>\n",
    "__age:__ גיל העובד <br>\n",
    "__workclass:__ סקטור העבודה של העובד <br>\n",
    "__fnlwgt:__ משקל סופי של השורה (לא קיים בפועל בקובץ) <br>\n",
    "__education:__ השכלה (תיכונית / גבוהה וכו'). קטגוריאלי <br>\n",
    "__education-num:__ שנות לימוד, רציף <br>\n",
    "__marital-status:__ מצב משפחתי רשמי <br>\n",
    "__occupation:__ מקצוע <br>\n",
    "__relationship:__ מקום העובד במשפחה (בעל / אישה וכו) <br>\n",
    "__race:__ גזע <br>\n",
    "__sex:__ מין <br>\n",
    "__capital-gain:__ רווח הון <br>\n",
    "__capital-loss:__ הפסד הון <br>\n",
    "__hours-per-week:__ שעות עבודה בשבוע <br>\n",
    "__native-country:__ ארץ מוצא <br>\n"
   ]
  },
  {
   "cell_type": "markdown",
   "metadata": {},
   "source": [
    "## Get matrics for the data and calculate num of rows"
   ]
  },
  {
   "cell_type": "code",
   "execution_count": 4,
   "metadata": {},
   "outputs": [
    {
     "data": {
      "text/plain": [
       "45222"
      ]
     },
     "execution_count": 4,
     "metadata": {},
     "output_type": "execute_result"
    }
   ],
   "source": [
    "# Number of rows in the DB - 45222 rows, 14 cols\n",
    "data.shape[0]"
   ]
  },
  {
   "cell_type": "code",
   "execution_count": 5,
   "metadata": {},
   "outputs": [
    {
     "data": {
      "text/html": [
       "<div>\n",
       "<style scoped>\n",
       "    .dataframe tbody tr th:only-of-type {\n",
       "        vertical-align: middle;\n",
       "    }\n",
       "\n",
       "    .dataframe tbody tr th {\n",
       "        vertical-align: top;\n",
       "    }\n",
       "\n",
       "    .dataframe thead th {\n",
       "        text-align: right;\n",
       "    }\n",
       "</style>\n",
       "<table border=\"1\" class=\"dataframe\">\n",
       "  <thead>\n",
       "    <tr style=\"text-align: right;\">\n",
       "      <th></th>\n",
       "      <th>age</th>\n",
       "      <th>education-num</th>\n",
       "      <th>capital-gain</th>\n",
       "      <th>capital-loss</th>\n",
       "      <th>hours-per-week</th>\n",
       "    </tr>\n",
       "  </thead>\n",
       "  <tbody>\n",
       "    <tr>\n",
       "      <th>count</th>\n",
       "      <td>45222.000000</td>\n",
       "      <td>45222.000000</td>\n",
       "      <td>45222.000000</td>\n",
       "      <td>45222.000000</td>\n",
       "      <td>45222.000000</td>\n",
       "    </tr>\n",
       "    <tr>\n",
       "      <th>mean</th>\n",
       "      <td>38.547941</td>\n",
       "      <td>10.118460</td>\n",
       "      <td>1101.430344</td>\n",
       "      <td>88.595418</td>\n",
       "      <td>40.938017</td>\n",
       "    </tr>\n",
       "    <tr>\n",
       "      <th>std</th>\n",
       "      <td>13.217870</td>\n",
       "      <td>2.552881</td>\n",
       "      <td>7506.430084</td>\n",
       "      <td>404.956092</td>\n",
       "      <td>12.007508</td>\n",
       "    </tr>\n",
       "    <tr>\n",
       "      <th>min</th>\n",
       "      <td>17.000000</td>\n",
       "      <td>1.000000</td>\n",
       "      <td>0.000000</td>\n",
       "      <td>0.000000</td>\n",
       "      <td>1.000000</td>\n",
       "    </tr>\n",
       "    <tr>\n",
       "      <th>25%</th>\n",
       "      <td>28.000000</td>\n",
       "      <td>9.000000</td>\n",
       "      <td>0.000000</td>\n",
       "      <td>0.000000</td>\n",
       "      <td>40.000000</td>\n",
       "    </tr>\n",
       "    <tr>\n",
       "      <th>50%</th>\n",
       "      <td>37.000000</td>\n",
       "      <td>10.000000</td>\n",
       "      <td>0.000000</td>\n",
       "      <td>0.000000</td>\n",
       "      <td>40.000000</td>\n",
       "    </tr>\n",
       "    <tr>\n",
       "      <th>75%</th>\n",
       "      <td>47.000000</td>\n",
       "      <td>13.000000</td>\n",
       "      <td>0.000000</td>\n",
       "      <td>0.000000</td>\n",
       "      <td>45.000000</td>\n",
       "    </tr>\n",
       "    <tr>\n",
       "      <th>max</th>\n",
       "      <td>90.000000</td>\n",
       "      <td>16.000000</td>\n",
       "      <td>99999.000000</td>\n",
       "      <td>4356.000000</td>\n",
       "      <td>99.000000</td>\n",
       "    </tr>\n",
       "  </tbody>\n",
       "</table>\n",
       "</div>"
      ],
      "text/plain": [
       "                age  education-num  capital-gain  capital-loss  hours-per-week\n",
       "count  45222.000000   45222.000000  45222.000000  45222.000000    45222.000000\n",
       "mean      38.547941      10.118460   1101.430344     88.595418       40.938017\n",
       "std       13.217870       2.552881   7506.430084    404.956092       12.007508\n",
       "min       17.000000       1.000000      0.000000      0.000000        1.000000\n",
       "25%       28.000000       9.000000      0.000000      0.000000       40.000000\n",
       "50%       37.000000      10.000000      0.000000      0.000000       40.000000\n",
       "75%       47.000000      13.000000      0.000000      0.000000       45.000000\n",
       "max       90.000000      16.000000  99999.000000   4356.000000       99.000000"
      ]
     },
     "execution_count": 5,
     "metadata": {},
     "output_type": "execute_result"
    }
   ],
   "source": [
    "# data metrics (for numerical fields)\n",
    "data.describe()"
   ]
  },
  {
   "cell_type": "code",
   "execution_count": 6,
   "metadata": {},
   "outputs": [
    {
     "data": {
      "text/html": [
       "<div>\n",
       "<style scoped>\n",
       "    .dataframe tbody tr th:only-of-type {\n",
       "        vertical-align: middle;\n",
       "    }\n",
       "\n",
       "    .dataframe tbody tr th {\n",
       "        vertical-align: top;\n",
       "    }\n",
       "\n",
       "    .dataframe thead th {\n",
       "        text-align: right;\n",
       "    }\n",
       "</style>\n",
       "<table border=\"1\" class=\"dataframe\">\n",
       "  <thead>\n",
       "    <tr style=\"text-align: right;\">\n",
       "      <th></th>\n",
       "      <th>workclass</th>\n",
       "      <th>education_level</th>\n",
       "      <th>marital-status</th>\n",
       "      <th>occupation</th>\n",
       "      <th>relationship</th>\n",
       "      <th>race</th>\n",
       "      <th>sex</th>\n",
       "      <th>native-country</th>\n",
       "      <th>income</th>\n",
       "    </tr>\n",
       "  </thead>\n",
       "  <tbody>\n",
       "    <tr>\n",
       "      <th>count</th>\n",
       "      <td>45222</td>\n",
       "      <td>45222</td>\n",
       "      <td>45222</td>\n",
       "      <td>45222</td>\n",
       "      <td>45222</td>\n",
       "      <td>45222</td>\n",
       "      <td>45222</td>\n",
       "      <td>45222</td>\n",
       "      <td>45222</td>\n",
       "    </tr>\n",
       "    <tr>\n",
       "      <th>unique</th>\n",
       "      <td>7</td>\n",
       "      <td>16</td>\n",
       "      <td>7</td>\n",
       "      <td>14</td>\n",
       "      <td>6</td>\n",
       "      <td>5</td>\n",
       "      <td>2</td>\n",
       "      <td>41</td>\n",
       "      <td>2</td>\n",
       "    </tr>\n",
       "    <tr>\n",
       "      <th>top</th>\n",
       "      <td>Private</td>\n",
       "      <td>HS-grad</td>\n",
       "      <td>Married-civ-spouse</td>\n",
       "      <td>Craft-repair</td>\n",
       "      <td>Husband</td>\n",
       "      <td>White</td>\n",
       "      <td>Male</td>\n",
       "      <td>United-States</td>\n",
       "      <td>&lt;=50K</td>\n",
       "    </tr>\n",
       "    <tr>\n",
       "      <th>freq</th>\n",
       "      <td>33307</td>\n",
       "      <td>14783</td>\n",
       "      <td>21055</td>\n",
       "      <td>6020</td>\n",
       "      <td>18666</td>\n",
       "      <td>38903</td>\n",
       "      <td>30527</td>\n",
       "      <td>41292</td>\n",
       "      <td>34014</td>\n",
       "    </tr>\n",
       "  </tbody>\n",
       "</table>\n",
       "</div>"
      ],
      "text/plain": [
       "       workclass education_level       marital-status     occupation  \\\n",
       "count      45222           45222                45222          45222   \n",
       "unique         7              16                    7             14   \n",
       "top      Private         HS-grad   Married-civ-spouse   Craft-repair   \n",
       "freq       33307           14783                21055           6020   \n",
       "\n",
       "       relationship    race    sex  native-country income  \n",
       "count         45222   45222  45222           45222  45222  \n",
       "unique            6       5      2              41      2  \n",
       "top         Husband   White   Male   United-States  <=50K  \n",
       "freq          18666   38903  30527           41292  34014  "
      ]
     },
     "execution_count": 6,
     "metadata": {},
     "output_type": "execute_result"
    }
   ],
   "source": [
    "# data metrics (for categorical fields)\n",
    "data.describe(include=[np.object])"
   ]
  },
  {
   "cell_type": "markdown",
   "metadata": {},
   "source": [
    "## Statistical Summary:"
   ]
  },
  {
   "cell_type": "markdown",
   "metadata": {},
   "source": [
    "__a. Age 50th percentile =__ 37 <br>\n",
    "__b. Education 75th percentile =__ 13 <br>\n",
    "__c. Capital-gain disterbution =__ Not Normal... from the statistical data in the describe() we can see that 50th percentile is 0, mean is 1101 and std is 7506. We learn that most of the values are 0. Even after ignoring the 0 rows it is still not Normal. <br>\n",
    "__d. hours-per-week disterbution =__ We can see that the mean is 40 and 50th percentile is 40. We can assume for now it is a Normal disterbution with a small STD and a very long tail. <br>\n"
   ]
  },
  {
   "cell_type": "code",
   "execution_count": 7,
   "metadata": {},
   "outputs": [
    {
     "data": {
      "image/png": "[encoded data removed]",
      "text/plain": [
       "<Figure size 432x288 with 1 Axes>"
      ]
     },
     "metadata": {
      "needs_background": "light"
     },
     "output_type": "display_data"
    }
   ],
   "source": [
    "# show histogram for capitl gain, removing 0\n",
    "histCap = data[(data['capital-gain']>0)]\n",
    "plt.hist(histCap['capital-gain'], bins=70);"
   ]
  },
  {
   "cell_type": "markdown",
   "metadata": {},
   "source": [
    "## Age histogram"
   ]
  },
  {
   "cell_type": "code",
   "execution_count": 8,
   "metadata": {},
   "outputs": [
    {
     "data": {
      "image/png": "[encoded data removed]",
      "text/plain": [
       "<Figure size 432x288 with 1 Axes>"
      ]
     },
     "metadata": {
      "needs_background": "light"
     },
     "output_type": "display_data"
    }
   ],
   "source": [
    "# plot age histogram with 70 bins\n",
    "sns.distplot(data['age'],bins=70);\n",
    "# plt.hist(data['age'],bins=70);"
   ]
  },
  {
   "cell_type": "markdown",
   "metadata": {},
   "source": [
    "## Percent of people with income of 50K+"
   ]
  },
  {
   "cell_type": "code",
   "execution_count": 9,
   "metadata": {},
   "outputs": [
    {
     "data": {
      "text/plain": [
       "0.2478439697492371"
      ]
     },
     "execution_count": 9,
     "metadata": {},
     "output_type": "execute_result"
    }
   ],
   "source": [
    "(data['income'] == '>50K').sum()/len(data)\n",
    "# 24.8%"
   ]
  },
  {
   "cell_type": "markdown",
   "metadata": {},
   "source": [
    "## Num of divorced"
   ]
  },
  {
   "cell_type": "code",
   "execution_count": 10,
   "metadata": {},
   "outputs": [
    {
     "data": {
      "text/plain": [
       "6297"
      ]
     },
     "execution_count": 10,
     "metadata": {},
     "output_type": "execute_result"
    }
   ],
   "source": [
    "data['marital-status'].str.contains('Divorced', case=False).sum()\n",
    "# 6297"
   ]
  },
  {
   "cell_type": "markdown",
   "metadata": {},
   "source": [
    "## Sample Percentile Heatmap"
   ]
  },
  {
   "cell_type": "markdown",
   "metadata": {},
   "source": [
    "### Choose samples"
   ]
  },
  {
   "cell_type": "code",
   "execution_count": 11,
   "metadata": {},
   "outputs": [
    {
     "data": {
      "text/html": [
       "<div>\n",
       "<style scoped>\n",
       "    .dataframe tbody tr th:only-of-type {\n",
       "        vertical-align: middle;\n",
       "    }\n",
       "\n",
       "    .dataframe tbody tr th {\n",
       "        vertical-align: top;\n",
       "    }\n",
       "\n",
       "    .dataframe thead th {\n",
       "        text-align: right;\n",
       "    }\n",
       "</style>\n",
       "<table border=\"1\" class=\"dataframe\">\n",
       "  <thead>\n",
       "    <tr style=\"text-align: right;\">\n",
       "      <th></th>\n",
       "      <th>age</th>\n",
       "      <th>workclass</th>\n",
       "      <th>education_level</th>\n",
       "      <th>education-num</th>\n",
       "      <th>marital-status</th>\n",
       "      <th>occupation</th>\n",
       "      <th>relationship</th>\n",
       "      <th>race</th>\n",
       "      <th>sex</th>\n",
       "      <th>capital-gain</th>\n",
       "      <th>capital-loss</th>\n",
       "      <th>hours-per-week</th>\n",
       "      <th>native-country</th>\n",
       "      <th>income</th>\n",
       "    </tr>\n",
       "  </thead>\n",
       "  <tbody>\n",
       "    <tr>\n",
       "      <th>206</th>\n",
       "      <td>90</td>\n",
       "      <td>Private</td>\n",
       "      <td>HS-grad</td>\n",
       "      <td>9.0</td>\n",
       "      <td>Never-married</td>\n",
       "      <td>Other-service</td>\n",
       "      <td>Not-in-family</td>\n",
       "      <td>Black</td>\n",
       "      <td>Male</td>\n",
       "      <td>0.0</td>\n",
       "      <td>2206.0</td>\n",
       "      <td>40.0</td>\n",
       "      <td>United-States</td>\n",
       "      <td>&lt;=50K</td>\n",
       "    </tr>\n",
       "    <tr>\n",
       "      <th>8123</th>\n",
       "      <td>39</td>\n",
       "      <td>Private</td>\n",
       "      <td>Bachelors</td>\n",
       "      <td>13.0</td>\n",
       "      <td>Married-civ-spouse</td>\n",
       "      <td>Transport-moving</td>\n",
       "      <td>Husband</td>\n",
       "      <td>White</td>\n",
       "      <td>Male</td>\n",
       "      <td>15024.0</td>\n",
       "      <td>0.0</td>\n",
       "      <td>99.0</td>\n",
       "      <td>United-States</td>\n",
       "      <td>&gt;50K</td>\n",
       "    </tr>\n",
       "    <tr>\n",
       "      <th>33112</th>\n",
       "      <td>53</td>\n",
       "      <td>Self-emp-inc</td>\n",
       "      <td>Assoc-voc</td>\n",
       "      <td>11.0</td>\n",
       "      <td>Married-civ-spouse</td>\n",
       "      <td>Farming-fishing</td>\n",
       "      <td>Husband</td>\n",
       "      <td>White</td>\n",
       "      <td>Male</td>\n",
       "      <td>99999.0</td>\n",
       "      <td>0.0</td>\n",
       "      <td>75.0</td>\n",
       "      <td>United-States</td>\n",
       "      <td>&gt;50K</td>\n",
       "    </tr>\n",
       "    <tr>\n",
       "      <th>45120</th>\n",
       "      <td>64</td>\n",
       "      <td>Local-gov</td>\n",
       "      <td>Doctorate</td>\n",
       "      <td>16.0</td>\n",
       "      <td>Married-civ-spouse</td>\n",
       "      <td>Protective-serv</td>\n",
       "      <td>Husband</td>\n",
       "      <td>White</td>\n",
       "      <td>Male</td>\n",
       "      <td>0.0</td>\n",
       "      <td>0.0</td>\n",
       "      <td>45.0</td>\n",
       "      <td>United-States</td>\n",
       "      <td>&gt;50K</td>\n",
       "    </tr>\n",
       "    <tr>\n",
       "      <th>10000</th>\n",
       "      <td>23</td>\n",
       "      <td>Private</td>\n",
       "      <td>Some-college</td>\n",
       "      <td>10.0</td>\n",
       "      <td>Never-married</td>\n",
       "      <td>Other-service</td>\n",
       "      <td>Other-relative</td>\n",
       "      <td>White</td>\n",
       "      <td>Female</td>\n",
       "      <td>0.0</td>\n",
       "      <td>0.0</td>\n",
       "      <td>25.0</td>\n",
       "      <td>United-States</td>\n",
       "      <td>&lt;=50K</td>\n",
       "    </tr>\n",
       "  </tbody>\n",
       "</table>\n",
       "</div>"
      ],
      "text/plain": [
       "       age      workclass education_level  education-num       marital-status  \\\n",
       "206     90        Private         HS-grad            9.0        Never-married   \n",
       "8123    39        Private       Bachelors           13.0   Married-civ-spouse   \n",
       "33112   53   Self-emp-inc       Assoc-voc           11.0   Married-civ-spouse   \n",
       "45120   64      Local-gov       Doctorate           16.0   Married-civ-spouse   \n",
       "10000   23        Private    Some-college           10.0        Never-married   \n",
       "\n",
       "              occupation     relationship    race      sex  capital-gain  \\\n",
       "206        Other-service    Not-in-family   Black     Male           0.0   \n",
       "8123    Transport-moving          Husband   White     Male       15024.0   \n",
       "33112    Farming-fishing          Husband   White     Male       99999.0   \n",
       "45120    Protective-serv          Husband   White     Male           0.0   \n",
       "10000      Other-service   Other-relative   White   Female           0.0   \n",
       "\n",
       "       capital-loss  hours-per-week  native-country income  \n",
       "206          2206.0            40.0   United-States  <=50K  \n",
       "8123            0.0            99.0   United-States   >50K  \n",
       "33112           0.0            75.0   United-States   >50K  \n",
       "45120           0.0            45.0   United-States   >50K  \n",
       "10000           0.0            25.0   United-States  <=50K  "
      ]
     },
     "execution_count": 11,
     "metadata": {},
     "output_type": "execute_result"
    }
   ],
   "source": [
    "indices = [206,8123,33112,45120,10000]\n",
    "sample = DataFrame(data.loc[indices]\n",
    "                  ,columns = data.keys()\n",
    "                  )\n",
    "sample"
   ]
  },
  {
   "cell_type": "markdown",
   "metadata": {},
   "source": [
    "### Generate heatmap"
   ]
  },
  {
   "cell_type": "code",
   "execution_count": 12,
   "metadata": {},
   "outputs": [
    {
     "data": {
      "text/html": [
       "<div>\n",
       "<style scoped>\n",
       "    .dataframe tbody tr th:only-of-type {\n",
       "        vertical-align: middle;\n",
       "    }\n",
       "\n",
       "    .dataframe tbody tr th {\n",
       "        vertical-align: top;\n",
       "    }\n",
       "\n",
       "    .dataframe thead th {\n",
       "        text-align: right;\n",
       "    }\n",
       "</style>\n",
       "<table border=\"1\" class=\"dataframe\">\n",
       "  <thead>\n",
       "    <tr style=\"text-align: right;\">\n",
       "      <th></th>\n",
       "      <th>age</th>\n",
       "      <th>education-num</th>\n",
       "      <th>capital-gain</th>\n",
       "      <th>capital-loss</th>\n",
       "      <th>hours-per-week</th>\n",
       "      <th>income</th>\n",
       "    </tr>\n",
       "  </thead>\n",
       "  <tbody>\n",
       "    <tr>\n",
       "      <th>206</th>\n",
       "      <td>100.0</td>\n",
       "      <td>28.9</td>\n",
       "      <td>45.8</td>\n",
       "      <td>99.4</td>\n",
       "      <td>45.9</td>\n",
       "      <td>37.6</td>\n",
       "    </tr>\n",
       "    <tr>\n",
       "      <th>8123</th>\n",
       "      <td>54.9</td>\n",
       "      <td>83.1</td>\n",
       "      <td>98.6</td>\n",
       "      <td>47.6</td>\n",
       "      <td>99.9</td>\n",
       "      <td>87.6</td>\n",
       "    </tr>\n",
       "    <tr>\n",
       "      <th>33112</th>\n",
       "      <td>85.0</td>\n",
       "      <td>69.3</td>\n",
       "      <td>99.7</td>\n",
       "      <td>47.6</td>\n",
       "      <td>98.8</td>\n",
       "      <td>87.6</td>\n",
       "    </tr>\n",
       "    <tr>\n",
       "      <th>45120</th>\n",
       "      <td>96.2</td>\n",
       "      <td>99.4</td>\n",
       "      <td>45.8</td>\n",
       "      <td>47.6</td>\n",
       "      <td>74.4</td>\n",
       "      <td>87.6</td>\n",
       "    </tr>\n",
       "    <tr>\n",
       "      <th>10000</th>\n",
       "      <td>12.3</td>\n",
       "      <td>56.2</td>\n",
       "      <td>45.8</td>\n",
       "      <td>47.6</td>\n",
       "      <td>9.8</td>\n",
       "      <td>37.6</td>\n",
       "    </tr>\n",
       "  </tbody>\n",
       "</table>\n",
       "</div>"
      ],
      "text/plain": [
       "         age  education-num  capital-gain  capital-loss  hours-per-week  \\\n",
       "206    100.0           28.9          45.8          99.4            45.9   \n",
       "8123    54.9           83.1          98.6          47.6            99.9   \n",
       "33112   85.0           69.3          99.7          47.6            98.8   \n",
       "45120   96.2           99.4          45.8          47.6            74.4   \n",
       "10000   12.3           56.2          45.8          47.6             9.8   \n",
       "\n",
       "       income  \n",
       "206      37.6  \n",
       "8123     87.6  \n",
       "33112    87.6  \n",
       "45120    87.6  \n",
       "10000    37.6  "
      ]
     },
     "metadata": {},
     "output_type": "display_data"
    },
    {
     "data": {
      "image/png": "[encoded data removed]",
      "text/plain": [
       "<Figure size 720x360 with 2 Axes>"
      ]
     },
     "metadata": {
      "needs_background": "light"
     },
     "output_type": "display_data"
    }
   ],
   "source": [
    "percentiles = data.rank(pct=True)\n",
    "percentiles = round(percentiles*100,1)\n",
    "# percentiles = percentiles.iloc[indices]\n",
    "percentiles = percentiles[['age'\n",
    "                          ,'education-num'\n",
    "                          ,'capital-gain'\n",
    "                          ,'capital-loss'\n",
    "                          ,'hours-per-week'\n",
    "                          ,'income'\n",
    "                          ]\n",
    "                         ].iloc[indices]\n",
    "plt.figure(figsize=(10,5))\n",
    "sns.heatmap(percentiles\n",
    "           ,vmin=1\n",
    "           ,vmax=99\n",
    "           ,annot=True\n",
    "           )  \n",
    "display(percentiles)  \n"
   ]
  },
  {
   "cell_type": "markdown",
   "metadata": {},
   "source": [
    "### Indeces insights:\n",
    "__a. 8123, 33112 -__ Top capital gain and hours per week, large income. <br>\n",
    "__b. 206, 45120 -__ Top age, all other features different. <br>"
   ]
  },
  {
   "cell_type": "markdown",
   "metadata": {},
   "source": [
    "## Capital gain and loss"
   ]
  },
  {
   "cell_type": "code",
   "execution_count": 13,
   "metadata": {
    "scrolled": true
   },
   "outputs": [
    {
     "data": {
      "image/png": "[encoded data removed]",
      "text/plain": [
       "<Figure size 432x288 with 1 Axes>"
      ]
     },
     "metadata": {
      "needs_background": "light"
     },
     "output_type": "display_data"
    }
   ],
   "source": [
    "plt.hist(data['capital-gain'],bins=70)\n",
    "plt.title('Capital Gain Histogram');"
   ]
  },
  {
   "cell_type": "code",
   "execution_count": 14,
   "metadata": {},
   "outputs": [
    {
     "data": {
      "image/png": "[encoded data removed]",
      "text/plain": [
       "<Figure size 432x288 with 1 Axes>"
      ]
     },
     "metadata": {
      "needs_background": "light"
     },
     "output_type": "display_data"
    }
   ],
   "source": [
    "plt.hist(data['capital-loss'],bins=70)\n",
    "plt.title('Capital Loss Histogram');"
   ]
  },
  {
   "cell_type": "markdown",
   "metadata": {},
   "source": [
    "# === Manipulate ==="
   ]
  },
  {
   "cell_type": "markdown",
   "metadata": {},
   "source": [
    "## split income from features"
   ]
  },
  {
   "cell_type": "code",
   "execution_count": 15,
   "metadata": {},
   "outputs": [],
   "source": [
    "income_raw = DataFrame(data['income'])\n",
    "features_raw = DataFrame(data.drop(labels='income',axis=1))"
   ]
  },
  {
   "cell_type": "markdown",
   "metadata": {},
   "source": [
    "## Skew fix"
   ]
  },
  {
   "cell_type": "code",
   "execution_count": 16,
   "metadata": {},
   "outputs": [],
   "source": [
    "skewed = ['capital-gain','capital-loss']\n",
    "features_log_transformed = DataFrame(features_raw)\n",
    "features_log_transformed[skewed] = features_raw[skewed].apply(lambda x: np.log(x+1))"
   ]
  },
  {
   "cell_type": "code",
   "execution_count": 17,
   "metadata": {},
   "outputs": [
    {
     "data": {
      "image/png": "[encoded data removed]",
      "text/plain": [
       "<Figure size 432x288 with 1 Axes>"
      ]
     },
     "metadata": {
      "needs_background": "light"
     },
     "output_type": "display_data"
    }
   ],
   "source": [
    "plt.hist(features_log_transformed['capital-gain'],bins=70)\n",
    "plt.title('Capital Gain DeSkewed Histogram')\n",
    "plt.ylim(ymax=1500);"
   ]
  },
  {
   "cell_type": "code",
   "execution_count": 18,
   "metadata": {},
   "outputs": [
    {
     "data": {
      "image/png": "[encoded data removed]",
      "text/plain": [
       "<Figure size 432x288 with 1 Axes>"
      ]
     },
     "metadata": {
      "needs_background": "light"
     },
     "output_type": "display_data"
    }
   ],
   "source": [
    "plt.hist(features_log_transformed['capital-loss'],bins=70)\n",
    "plt.title('Capital Loss DeSkewed Histogram')\n",
    "plt.ylim(ymax=1500);"
   ]
  },
  {
   "cell_type": "markdown",
   "metadata": {},
   "source": [
    "## Scaling"
   ]
  },
  {
   "cell_type": "code",
   "execution_count": 19,
   "metadata": {},
   "outputs": [],
   "source": [
    "scalar = MinMaxScaler()\n",
    "features_log_minmax_transformed = DataFrame(features_log_transformed)\n",
    "numerical = ['age', 'education-num', 'capital-gain', 'capital-loss', 'hours-per-week']"
   ]
  },
  {
   "cell_type": "code",
   "execution_count": 20,
   "metadata": {},
   "outputs": [
    {
     "data": {
      "text/html": [
       "<div>\n",
       "<style scoped>\n",
       "    .dataframe tbody tr th:only-of-type {\n",
       "        vertical-align: middle;\n",
       "    }\n",
       "\n",
       "    .dataframe tbody tr th {\n",
       "        vertical-align: top;\n",
       "    }\n",
       "\n",
       "    .dataframe thead th {\n",
       "        text-align: right;\n",
       "    }\n",
       "</style>\n",
       "<table border=\"1\" class=\"dataframe\">\n",
       "  <thead>\n",
       "    <tr style=\"text-align: right;\">\n",
       "      <th></th>\n",
       "      <th>age</th>\n",
       "      <th>education-num</th>\n",
       "      <th>capital-gain</th>\n",
       "      <th>capital-loss</th>\n",
       "      <th>hours-per-week</th>\n",
       "    </tr>\n",
       "  </thead>\n",
       "  <tbody>\n",
       "    <tr>\n",
       "      <th>0</th>\n",
       "      <td>0.301370</td>\n",
       "      <td>0.800000</td>\n",
       "      <td>0.667492</td>\n",
       "      <td>0.0</td>\n",
       "      <td>0.397959</td>\n",
       "    </tr>\n",
       "    <tr>\n",
       "      <th>1</th>\n",
       "      <td>0.452055</td>\n",
       "      <td>0.800000</td>\n",
       "      <td>0.000000</td>\n",
       "      <td>0.0</td>\n",
       "      <td>0.122449</td>\n",
       "    </tr>\n",
       "    <tr>\n",
       "      <th>2</th>\n",
       "      <td>0.287671</td>\n",
       "      <td>0.533333</td>\n",
       "      <td>0.000000</td>\n",
       "      <td>0.0</td>\n",
       "      <td>0.397959</td>\n",
       "    </tr>\n",
       "    <tr>\n",
       "      <th>3</th>\n",
       "      <td>0.493151</td>\n",
       "      <td>0.400000</td>\n",
       "      <td>0.000000</td>\n",
       "      <td>0.0</td>\n",
       "      <td>0.397959</td>\n",
       "    </tr>\n",
       "    <tr>\n",
       "      <th>4</th>\n",
       "      <td>0.150685</td>\n",
       "      <td>0.800000</td>\n",
       "      <td>0.000000</td>\n",
       "      <td>0.0</td>\n",
       "      <td>0.397959</td>\n",
       "    </tr>\n",
       "    <tr>\n",
       "      <th>5</th>\n",
       "      <td>0.273973</td>\n",
       "      <td>0.866667</td>\n",
       "      <td>0.000000</td>\n",
       "      <td>0.0</td>\n",
       "      <td>0.397959</td>\n",
       "    </tr>\n",
       "    <tr>\n",
       "      <th>6</th>\n",
       "      <td>0.438356</td>\n",
       "      <td>0.266667</td>\n",
       "      <td>0.000000</td>\n",
       "      <td>0.0</td>\n",
       "      <td>0.153061</td>\n",
       "    </tr>\n",
       "  </tbody>\n",
       "</table>\n",
       "</div>"
      ],
      "text/plain": [
       "        age  education-num  capital-gain  capital-loss  hours-per-week\n",
       "0  0.301370       0.800000      0.667492           0.0        0.397959\n",
       "1  0.452055       0.800000      0.000000           0.0        0.122449\n",
       "2  0.287671       0.533333      0.000000           0.0        0.397959\n",
       "3  0.493151       0.400000      0.000000           0.0        0.397959\n",
       "4  0.150685       0.800000      0.000000           0.0        0.397959\n",
       "5  0.273973       0.866667      0.000000           0.0        0.397959\n",
       "6  0.438356       0.266667      0.000000           0.0        0.153061"
      ]
     },
     "execution_count": 20,
     "metadata": {},
     "output_type": "execute_result"
    }
   ],
   "source": [
    "features_log_minmax_transformed[numerical] = scalar.fit_transform(features_log_transformed[numerical])\n",
    "features_log_minmax_transformed[numerical].head(7)"
   ]
  },
  {
   "cell_type": "markdown",
   "metadata": {},
   "source": [
    "## Create One-Hot-Encoding"
   ]
  },
  {
   "cell_type": "code",
   "execution_count": 21,
   "metadata": {},
   "outputs": [
    {
     "name": "stdout",
     "output_type": "stream",
     "text": [
      "features_final has 103 columns\n",
      "features_final column names are: \n",
      "age\n",
      "education-num\n",
      "capital-gain\n",
      "capital-loss\n",
      "hours-per-week\n",
      "workclass_ Federal-gov\n",
      "workclass_ Local-gov\n",
      "workclass_ Private\n",
      "workclass_ Self-emp-inc\n",
      "workclass_ Self-emp-not-inc\n",
      "workclass_ State-gov\n",
      "workclass_ Without-pay\n",
      "education_level_ 10th\n",
      "education_level_ 11th\n",
      "education_level_ 12th\n",
      "education_level_ 1st-4th\n",
      "education_level_ 5th-6th\n",
      "education_level_ 7th-8th\n",
      "education_level_ 9th\n",
      "education_level_ Assoc-acdm\n",
      "education_level_ Assoc-voc\n",
      "education_level_ Bachelors\n",
      "education_level_ Doctorate\n",
      "education_level_ HS-grad\n",
      "education_level_ Masters\n",
      "education_level_ Preschool\n",
      "education_level_ Prof-school\n",
      "education_level_ Some-college\n",
      "marital-status_ Divorced\n",
      "marital-status_ Married-AF-spouse\n",
      "marital-status_ Married-civ-spouse\n",
      "marital-status_ Married-spouse-absent\n",
      "marital-status_ Never-married\n",
      "marital-status_ Separated\n",
      "marital-status_ Widowed\n",
      "occupation_ Adm-clerical\n",
      "occupation_ Armed-Forces\n",
      "occupation_ Craft-repair\n",
      "occupation_ Exec-managerial\n",
      "occupation_ Farming-fishing\n",
      "occupation_ Handlers-cleaners\n",
      "occupation_ Machine-op-inspct\n",
      "occupation_ Other-service\n",
      "occupation_ Priv-house-serv\n",
      "occupation_ Prof-specialty\n",
      "occupation_ Protective-serv\n",
      "occupation_ Sales\n",
      "occupation_ Tech-support\n",
      "occupation_ Transport-moving\n",
      "relationship_ Husband\n",
      "relationship_ Not-in-family\n",
      "relationship_ Other-relative\n",
      "relationship_ Own-child\n",
      "relationship_ Unmarried\n",
      "relationship_ Wife\n",
      "race_ Amer-Indian-Eskimo\n",
      "race_ Asian-Pac-Islander\n",
      "race_ Black\n",
      "race_ Other\n",
      "race_ White\n",
      "sex_ Female\n",
      "sex_ Male\n",
      "native-country_ Cambodia\n",
      "native-country_ Canada\n",
      "native-country_ China\n",
      "native-country_ Columbia\n",
      "native-country_ Cuba\n",
      "native-country_ Dominican-Republic\n",
      "native-country_ Ecuador\n",
      "native-country_ El-Salvador\n",
      "native-country_ England\n",
      "native-country_ France\n",
      "native-country_ Germany\n",
      "native-country_ Greece\n",
      "native-country_ Guatemala\n",
      "native-country_ Haiti\n",
      "native-country_ Holand-Netherlands\n",
      "native-country_ Honduras\n",
      "native-country_ Hong\n",
      "native-country_ Hungary\n",
      "native-country_ India\n",
      "native-country_ Iran\n",
      "native-country_ Ireland\n",
      "native-country_ Italy\n",
      "native-country_ Jamaica\n",
      "native-country_ Japan\n",
      "native-country_ Laos\n",
      "native-country_ Mexico\n",
      "native-country_ Nicaragua\n",
      "native-country_ Outlying-US(Guam-USVI-etc)\n",
      "native-country_ Peru\n",
      "native-country_ Philippines\n",
      "native-country_ Poland\n",
      "native-country_ Portugal\n",
      "native-country_ Puerto-Rico\n",
      "native-country_ Scotland\n",
      "native-country_ South\n",
      "native-country_ Taiwan\n",
      "native-country_ Thailand\n",
      "native-country_ Trinadad&Tobago\n",
      "native-country_ United-States\n",
      "native-country_ Vietnam\n",
      "native-country_ Yugoslavia\n"
     ]
    }
   ],
   "source": [
    "features_final = pd.get_dummies(features_log_minmax_transformed)\n",
    "print(f'features_final has {features_final.shape[1]} columns')\n",
    "print('features_final column names are: ')\n",
    "f = [print(i) for i in features_final.columns]"
   ]
  },
  {
   "cell_type": "markdown",
   "metadata": {},
   "source": [
    "## Encode Income"
   ]
  },
  {
   "cell_type": "code",
   "execution_count": 22,
   "metadata": {},
   "outputs": [
    {
     "data": {
      "text/plain": [
       "11208"
      ]
     },
     "execution_count": 22,
     "metadata": {},
     "output_type": "execute_result"
    }
   ],
   "source": [
    "income = income_raw['income'].apply(lambda x: 1 if x == '>50K' else 0)\n",
    "income.sum()"
   ]
  },
  {
   "cell_type": "markdown",
   "metadata": {},
   "source": [
    "# === Modeling ==="
   ]
  },
  {
   "cell_type": "markdown",
   "metadata": {},
   "source": [
    "## Train-test split"
   ]
  },
  {
   "cell_type": "code",
   "execution_count": 23,
   "metadata": {},
   "outputs": [
    {
     "name": "stdout",
     "output_type": "stream",
     "text": [
      "36177\n",
      "9045\n",
      "36177\n",
      "9045\n",
      "36177 + 9045 = 45222\n"
     ]
    }
   ],
   "source": [
    "X_train, X_test, y_train, y_test = train_test_split(features_final\n",
    "                                                   ,income\n",
    "                                                   ,test_size=0.2\n",
    "                                                   )\n",
    "for x in [X_train, X_test, y_train, y_test]: print(x.shape[0])\n",
    "print('36177 + 9045 = 45222')"
   ]
  },
  {
   "cell_type": "markdown",
   "metadata": {},
   "source": [
    "## Create predictor function"
   ]
  },
  {
   "cell_type": "code",
   "execution_count": 24,
   "metadata": {},
   "outputs": [],
   "source": [
    "def train_predict(learner, sample_size, X_train, y_train, X_test, y_test):\n",
    "    # globals\n",
    "    in_train_limit = 300 # amount of lines to predict in the training data\n",
    "    results = {} # create return array\n",
    "    \n",
    "    # fit the model to the data\n",
    "    start = time()\n",
    "    learner = learner.fit(X_train[:sample_size], y_train[:sample_size])\n",
    "    end = time()\n",
    "    results['train_time'] = end-start\n",
    "    \n",
    "    # predict\n",
    "    start = time()\n",
    "    predictions_test = learner.predict(X_test)\n",
    "    predictions_train = learner.predict(X_train[:in_train_limit])\n",
    "    end = time()\n",
    "    results['pred_time'] = end-start\n",
    "    \n",
    "    # results metrics\n",
    "    results['acc_train'] = accuracy_score(y_train[:in_train_limit], \n",
    "                                          predictions_train\n",
    "                                         )\n",
    "    results['acc_test'] = accuracy_score(y_test, \n",
    "                                         predictions_test\n",
    "                                        )\n",
    "    results['f_train'] = fbeta_score(y_train[:in_train_limit], \n",
    "                                     predictions_train, \n",
    "                                     beta=0.5 # beta lower then 1 means more wheight for recall and less for precision\n",
    "                                    ) \n",
    "    results['f_test'] = fbeta_score(y_test, \n",
    "                                    predictions_test,\n",
    "                                    beta=0.5\n",
    "                                   )\n",
    "    \n",
    "    # print results\n",
    "    print(f\"{learner.__class__.__name__} trained on {sample_size} samples.\")\n",
    "    \n",
    "    return results"
   ]
  },
  {
   "cell_type": "markdown",
   "metadata": {},
   "source": [
    "## Set classifiers and global variables"
   ]
  },
  {
   "cell_type": "code",
   "execution_count": 25,
   "metadata": {},
   "outputs": [],
   "source": [
    "# init classifiers\n",
    "clf_A = AdaBoostClassifier(random_state=0)\n",
    "clf_B = GradientBoostingClassifier(random_state=0)\n",
    "clf_C = SGDClassifier(random_state=0)"
   ]
  },
  {
   "cell_type": "code",
   "execution_count": 26,
   "metadata": {},
   "outputs": [],
   "source": [
    "# define sample size\n",
    "sample_100 = int(len(y_train))\n",
    "sample_10 = int(len(y_train)*0.1)\n",
    "sample_1 = int(len(y_train)*0.01)"
   ]
  },
  {
   "cell_type": "code",
   "execution_count": 27,
   "metadata": {},
   "outputs": [],
   "source": [
    "# init results\n",
    "results = {}"
   ]
  },
  {
   "cell_type": "markdown",
   "metadata": {},
   "source": [
    "## Run Algorithems"
   ]
  },
  {
   "cell_type": "code",
   "execution_count": 28,
   "metadata": {},
   "outputs": [
    {
     "name": "stdout",
     "output_type": "stream",
     "text": [
      "AdaBoostClassifier trained on 361 samples.\n",
      "AdaBoostClassifier trained on 3617 samples.\n",
      "AdaBoostClassifier trained on 36177 samples.\n",
      "GradientBoostingClassifier trained on 361 samples.\n",
      "GradientBoostingClassifier trained on 3617 samples.\n",
      "GradientBoostingClassifier trained on 36177 samples.\n",
      "SGDClassifier trained on 361 samples.\n",
      "SGDClassifier trained on 3617 samples.\n",
      "SGDClassifier trained on 36177 samples.\n"
     ]
    }
   ],
   "source": [
    "for clf in [clf_A, clf_B, clf_C]:\n",
    "    clf_name = clf.__class__.__name__\n",
    "    results[clf_name] = {}\n",
    "    for i, samples in enumerate([sample_1,sample_10,sample_100]):\n",
    "        results[clf_name][i] = train_predict(clf,samples,X_train,y_train,X_test,y_test)\n"
   ]
  },
  {
   "cell_type": "markdown",
   "metadata": {},
   "source": [
    "# === Validation ==="
   ]
  },
  {
   "cell_type": "markdown",
   "metadata": {},
   "source": [
    "## Visual graphs"
   ]
  },
  {
   "cell_type": "code",
   "execution_count": 29,
   "metadata": {
    "scrolled": false
   },
   "outputs": [
    {
     "data": {
      "image/png": "[encoded data removed]",
      "text/plain": [
       "<Figure size 792x504 with 6 Axes>"
      ]
     },
     "metadata": {
      "needs_background": "light"
     },
     "output_type": "display_data"
    }
   ],
   "source": [
    "vs.evaluate(results)"
   ]
  },
  {
   "cell_type": "markdown",
   "metadata": {},
   "source": [
    "## Test for different clusters"
   ]
  },
  {
   "cell_type": "markdown",
   "metadata": {},
   "source": [
    "### Cluster using GMM"
   ]
  },
  {
   "cell_type": "code",
   "execution_count": 30,
   "metadata": {},
   "outputs": [
    {
     "name": "stdout",
     "output_type": "stream",
     "text": [
      "components: 2,  \tscore: 0.058367025691248624\n",
      "components: 3,  \tscore: 0.16104697196439363\n",
      "components: 4,  \tscore: 0.1609793569865118\n",
      "components: 5,  \tscore: 0.08270900654917684\n",
      "components: 6,  \tscore: 0.07813496653091785\n",
      "components: 7,  \tscore: 0.07454366198309847\n",
      "The max score is 0.16104697196439363 for 3 components.\n"
     ]
    }
   ],
   "source": [
    "# test with different components to find best number of components\n",
    "max_score, max_comp = -1, -1\n",
    "for comp in range(2,8):\n",
    "    clusterer = GMM(n_components=comp,\n",
    "                    covariance_type='full',\n",
    "                    random_state=0\n",
    "                   ).fit(features_final[:10000])\n",
    "    preds = clusterer.predict(features_final[:10000])\n",
    "    score = silhouette_score(features_final[:10000],preds)\n",
    "    if score>max_score: max_score, max_comp = score, comp\n",
    "    print(f'components: {comp},  \\tscore: {score}')\n",
    "print(f'The max score is {max_score} for {max_comp} components.')"
   ]
  },
  {
   "cell_type": "markdown",
   "metadata": {},
   "source": [
    "The max score is 0.16104697196439363 for 3 components. <br>\n",
    "This low number indicates poor clustering."
   ]
  },
  {
   "cell_type": "markdown",
   "metadata": {},
   "source": [
    "### Cluster using KMeans"
   ]
  },
  {
   "cell_type": "code",
   "execution_count": 31,
   "metadata": {},
   "outputs": [
    {
     "name": "stdout",
     "output_type": "stream",
     "text": [
      "components: 2,  \tscore: 0.1635934925290054\n",
      "components: 3,  \tscore: 0.16470528226679215\n",
      "components: 4,  \tscore: 0.11136946898781414\n",
      "components: 5,  \tscore: 0.10939786057757246\n",
      "components: 6,  \tscore: 0.11334423499736476\n",
      "components: 7,  \tscore: 0.10375848313043975\n",
      "The max score is 0.16470528226679215 for 3 components.\n"
     ]
    }
   ],
   "source": [
    "# test with different components to find best number of components\n",
    "max_score, max_comp = -1, -1\n",
    "for comp in range(2,8):\n",
    "    clusterer = KMeans(n_clusters=comp,\n",
    "                    random_state=0\n",
    "                   ).fit(features_final[:10000])\n",
    "    preds = clusterer.predict(features_final[:10000])\n",
    "    score = silhouette_score(features_final[:10000],preds)\n",
    "    if score>max_score: max_score, max_comp = score, comp\n",
    "    print(f'components: {comp},  \\tscore: {score}')\n",
    "print(f'The max score is {max_score} for {max_comp} components.')"
   ]
  },
  {
   "cell_type": "markdown",
   "metadata": {},
   "source": [
    "The max score is 0.16470528226679215 for 3 components. <br>\n",
    "This low number indicates poor clustering."
   ]
  },
  {
   "cell_type": "markdown",
   "metadata": {},
   "source": [
    "# === Conclusion ==="
   ]
  },
  {
   "cell_type": "markdown",
   "metadata": {},
   "source": [
    "## Time to fit\n",
    "We can see from the graphs above that the minimum fit time was for the SGDClassifier. \n",
    "Even for the full size of the trainning set it was well under 1 sec."
   ]
  },
  {
   "cell_type": "markdown",
   "metadata": {},
   "source": [
    "## Accuracy and model comparison\n",
    "If we ignore the time it take to fit the algorithem, the results show us that GradientBoostingClassifier is the best performing algorithem - maximum F-score and accuracy score."
   ]
  },
  {
   "cell_type": "markdown",
   "metadata": {},
   "source": [
    "## Clustering variance\n",
    "We got very low scores for the silhouette of the clustering algorithems. This means that there is a very high variance between the people and we can hardly divide them into small number of groups."
   ]
  }
 ],
 "metadata": {
  "kernelspec": {
   "display_name": "Python 3",
   "language": "python",
   "name": "python3"
  },
  "language_info": {
   "codemirror_mode": {
    "name": "ipython",
    "version": 3
   },
   "file_extension": ".py",
   "mimetype": "text/x-python",
   "name": "python",
   "nbconvert_exporter": "python",
   "pygments_lexer": "ipython3",
   "version": "3.7.1"
  },
  "toc": {
   "base_numbering": 1,
   "nav_menu": {
    "height": "276px",
    "width": "456px"
   },
   "number_sections": true,
   "sideBar": true,
   "skip_h1_title": false,
   "title_cell": "Table of Contents",
   "title_sidebar": "Contents",
   "toc_cell": true,
   "toc_position": {
    "height": "355px",
    "left": "88px",
    "top": "211px",
    "width": "494px"
   },
   "toc_section_display": true,
   "toc_window_display": true
  }
 },
 "nbformat": 4,
 "nbformat_minor": 2
}
